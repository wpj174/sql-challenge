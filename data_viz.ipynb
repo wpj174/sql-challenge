{
 "cells": [
  {
   "cell_type": "code",
   "execution_count": 5,
   "id": "8e9c54b0",
   "metadata": {},
   "outputs": [],
   "source": [
    "# Import libraries\n",
    "\n",
    "import psycopg2\n",
    "import pandas as pd\n",
    "from sqlalchemy import create_engine\n",
    "from pprint import pprint\n"
   ]
  },
  {
   "cell_type": "code",
   "execution_count": null,
   "id": "b37f2350",
   "metadata": {},
   "outputs": [],
   "source": [
    "# Skip - Create an engine instance\n",
    "\n",
    "alchemyEngine = create_engine('postgresql+psycopg2://Personnel_HW:@127.0.0.1', pool_recycle=3600);\n"
   ]
  },
  {
   "cell_type": "code",
   "execution_count": null,
   "id": "754aada1",
   "metadata": {},
   "outputs": [],
   "source": [
    "# Skip - Connect to PostgreSQL server\n",
    "\n",
    "dbConnection = alchemyEngine.connect();\n"
   ]
  },
  {
   "cell_type": "code",
   "execution_count": 2,
   "id": "ad7ef458",
   "metadata": {},
   "outputs": [],
   "source": [
    "# Connect to to database\n",
    "\n",
    "conn = psycopg2.connect(host=\"localhost\", port = 5432, database=\"Personnel_HW\", user=\"postgres\", password=\"********\")\n"
   ]
  },
  {
   "cell_type": "code",
   "execution_count": 3,
   "id": "118c14ea",
   "metadata": {},
   "outputs": [],
   "source": [
    "# Create a cursor object\n",
    "\n",
    "cur = conn.cursor()"
   ]
  },
  {
   "cell_type": "code",
   "execution_count": 6,
   "id": "d21101b5",
   "metadata": {},
   "outputs": [
    {
     "name": "stdout",
     "output_type": "stream",
     "text": [
      "[('d001', 'Marketing'),\n",
      " ('d002', 'Finance'),\n",
      " ('d003', 'Human Resources'),\n",
      " ('d004', 'Production'),\n",
      " ('d005', 'Development'),\n",
      " ('d006', 'Quality Management'),\n",
      " ('d007', 'Sales'),\n",
      " ('d008', 'Research'),\n",
      " ('d009', 'Customer Service')]\n"
     ]
    }
   ],
   "source": [
    "# A sample query of all data from the \"department\" table in the \"Personnel_HW\" database\n",
    "\n",
    "cur.execute(\"\"\"SELECT * FROM department\"\"\")\n",
    "query_results = cur.fetchall()\n",
    "pprint(query_results)\n"
   ]
  },
  {
   "cell_type": "code",
   "execution_count": null,
   "id": "13ea12dd",
   "metadata": {},
   "outputs": [],
   "source": []
  }
 ],
 "metadata": {
  "kernelspec": {
   "display_name": "Python 3",
   "language": "python",
   "name": "python3"
  },
  "language_info": {
   "codemirror_mode": {
    "name": "ipython",
    "version": 3
   },
   "file_extension": ".py",
   "mimetype": "text/x-python",
   "name": "python",
   "nbconvert_exporter": "python",
   "pygments_lexer": "ipython3",
   "version": "3.8.8"
  }
 },
 "nbformat": 4,
 "nbformat_minor": 5
}
